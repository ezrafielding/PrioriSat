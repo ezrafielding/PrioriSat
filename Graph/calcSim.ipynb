{
 "cells": [
  {
   "cell_type": "code",
   "execution_count": 1,
   "metadata": {},
   "outputs": [],
   "source": [
    "from sklearn.metrics.pairwise import cosine_similarity\n",
    "import numpy as np\n",
    "import pickle as pkl"
   ]
  },
  {
   "cell_type": "code",
   "execution_count": 6,
   "metadata": {},
   "outputs": [
    {
     "data": {
      "text/plain": [
       "94"
      ]
     },
     "execution_count": 6,
     "metadata": {},
     "output_type": "execute_result"
    }
   ],
   "source": [
    "with open('../datasets/NWPU-Captions/NWPU_Graphs/test/graphs.pkl', 'rb') as f:\n",
    "    g_data = pkl.load(f)"
   ]
  },
  {
   "cell_type": "code",
   "execution_count": 4,
   "metadata": {},
   "outputs": [
    {
     "name": "stdout",
     "output_type": "stream",
     "text": [
      "Cosine Similarity: 0.8164965809277261\n"
     ]
    }
   ],
   "source": [
    "# Create adjacency matrices\n",
    "adj_matrix1 = np.array([[0, 1, 0],\n",
    "                        [1, 0, 1],\n",
    "                        [0, 1, 0]])\n",
    "\n",
    "adj_matrix2 = np.array([[0, 1, 0, 0],\n",
    "                        [1, 0, 1, 0],\n",
    "                        [0, 1, 0, 1],\n",
    "                        [0, 0, 1, 0]])\n",
    "\n",
    "# Ensure the matrices are of the same size by padding with zeros\n",
    "size = max(adj_matrix1.shape[0], adj_matrix2.shape[0])\n",
    "padded_adj_matrix1 = np.pad(adj_matrix1, ((0, size - adj_matrix1.shape[0]), (0, size - adj_matrix1.shape[1])), 'constant')\n",
    "padded_adj_matrix2 = np.pad(adj_matrix2, ((0, size - adj_matrix2.shape[0]), (0, size - adj_matrix2.shape[1])), 'constant')\n",
    "\n",
    "# Calculate cosine similarity\n",
    "similarity = cosine_similarity(padded_adj_matrix1.flatten().reshape(1, -1), padded_adj_matrix2.flatten().reshape(1, -1))\n",
    "\n",
    "print(\"Cosine Similarity:\", similarity[0][0])\n"
   ]
  },
  {
   "cell_type": "code",
   "execution_count": null,
   "metadata": {},
   "outputs": [],
   "source": []
  }
 ],
 "metadata": {
  "kernelspec": {
   "display_name": "priorisat",
   "language": "python",
   "name": "python3"
  },
  "language_info": {
   "codemirror_mode": {
    "name": "ipython",
    "version": 3
   },
   "file_extension": ".py",
   "mimetype": "text/x-python",
   "name": "python",
   "nbconvert_exporter": "python",
   "pygments_lexer": "ipython3",
   "version": "3.11.5"
  }
 },
 "nbformat": 4,
 "nbformat_minor": 2
}
