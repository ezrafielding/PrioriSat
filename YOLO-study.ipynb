{
 "cells": [
  {
   "cell_type": "code",
   "execution_count": 1,
   "metadata": {},
   "outputs": [],
   "source": [
    "from ultralytics import YOLO\n",
    "from PIL import Image\n",
    "import cv2"
   ]
  },
  {
   "cell_type": "code",
   "execution_count": 4,
   "metadata": {},
   "outputs": [
    {
     "name": "stdout",
     "output_type": "stream",
     "text": [
      "\n",
      "0: 640x480 4 persons, 1 bus, 1 stop sign, 716.1ms\n",
      "Speed: 3.7ms preprocess, 716.1ms inference, 387.5ms postprocess per image at shape (1, 3, 640, 480)\n",
      "Results saved to \u001b[1mruns/detect/predict\u001b[0m\n",
      "\n",
      "0: 640x480 4 persons, 1 bus, 1 stop sign, 16.4ms\n",
      "Speed: 2.4ms preprocess, 16.4ms inference, 2.4ms postprocess per image at shape (1, 3, 640, 480)\n",
      "Results saved to \u001b[1mruns/detect/predict\u001b[0m\n",
      "1 label saved to runs/detect/predict/labels\n",
      "\n",
      "0: 640x480 4 persons, 1 bus, 1 stop sign, 1: 640x480 4 persons, 1 bus, 1 stop sign, 686.7ms\n",
      "Speed: 2.0ms preprocess, 343.4ms inference, 2.0ms postprocess per image at shape (1, 3, 640, 480)\n",
      "Results saved to \u001b[1mruns/detect/predict\u001b[0m\n",
      "3 labels saved to runs/detect/predict/labels\n"
     ]
    }
   ],
   "source": [
    "model = YOLO(\"yolov8n.pt\")\n",
    "\n",
    "# from PIL\n",
    "im1 = Image.open(\"bus.jpg\")\n",
    "results = model.predict(source=im1, save=True)  # save plotted images\n",
    "\n",
    "# from ndarray\n",
    "im2 = cv2.imread(\"bus.jpg\")\n",
    "results = model.predict(source=im2, save=True, save_txt=True)  # save predictions as labels\n",
    "\n",
    "# from list of PIL/ndarray\n",
    "results = model.predict(source=[im1, im2])"
   ]
  },
  {
   "cell_type": "code",
   "execution_count": null,
   "metadata": {},
   "outputs": [],
   "source": []
  }
 ],
 "metadata": {
  "kernelspec": {
   "display_name": "priorisat",
   "language": "python",
   "name": "python3"
  },
  "language_info": {
   "codemirror_mode": {
    "name": "ipython",
    "version": 3
   },
   "file_extension": ".py",
   "mimetype": "text/x-python",
   "name": "python",
   "nbconvert_exporter": "python",
   "pygments_lexer": "ipython3",
   "version": "3.11.5"
  }
 },
 "nbformat": 4,
 "nbformat_minor": 2
}
