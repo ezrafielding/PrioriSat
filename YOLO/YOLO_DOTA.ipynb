{
 "cells": [
  {
   "cell_type": "code",
   "execution_count": 1,
   "metadata": {},
   "outputs": [],
   "source": [
    "from ultralytics import YOLO"
   ]
  },
  {
   "cell_type": "code",
   "execution_count": 2,
   "metadata": {},
   "outputs": [],
   "source": [
    "# Create a new YOLOv8n-OBB model from scratch\n",
    "# model = YOLO('../runs/obb/train/weights/best.pt')\n",
    "model = YOLO('./runs/obb/img960/weights/best.pt')\n",
    "\n",
    "results = model('../datasets/DOTAv1.5/images/test', imgsz=960, stream=True)"
   ]
  },
  {
   "cell_type": "code",
   "execution_count": 11,
   "metadata": {},
   "outputs": [
    {
     "name": "stdout",
     "output_type": "stream",
     "text": [
      "image 7/937 /home/ezraf/PrioriSat/YOLO/../datasets/DOTAv1.5/images/test/P0024.jpg: 960x672 2376.4ms\n"
     ]
    },
    {
     "data": {
      "text/plain": [
       "2.5961304932292015"
      ]
     },
     "execution_count": 11,
     "metadata": {},
     "output_type": "execute_result"
    }
   ],
   "source": [
    "avg_speed = 0\n",
    "for result in results:\n",
    "    avg_speed = avg_speed + result.speed['preprocess'] + result.speed['inference'] + result.speed['postprocess']\n",
    "    break\n",
    "avg_speed = avg_speed/937"
   ]
  },
  {
   "cell_type": "code",
   "execution_count": null,
   "metadata": {},
   "outputs": [],
   "source": []
  }
 ],
 "metadata": {
  "kernelspec": {
   "display_name": "priorisat",
   "language": "python",
   "name": "python3"
  },
  "language_info": {
   "codemirror_mode": {
    "name": "ipython",
    "version": 3
   },
   "file_extension": ".py",
   "mimetype": "text/x-python",
   "name": "python",
   "nbconvert_exporter": "python",
   "pygments_lexer": "ipython3",
   "version": "3.10.12"
  }
 },
 "nbformat": 4,
 "nbformat_minor": 2
}
