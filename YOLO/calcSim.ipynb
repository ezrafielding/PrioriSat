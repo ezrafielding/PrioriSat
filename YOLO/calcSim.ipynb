{
 "cells": [
  {
   "cell_type": "code",
   "execution_count": 40,
   "metadata": {},
   "outputs": [],
   "source": [
    "import json\n",
    "from sklearn.feature_extraction import DictVectorizer\n",
    "from sklearn.metrics.pairwise import cosine_similarity"
   ]
  },
  {
   "cell_type": "code",
   "execution_count": 41,
   "metadata": {},
   "outputs": [],
   "source": [
    "def jsonConvert(json_list, key_field):\n",
    "    result_dict = {}\n",
    "    for obj in json_list:\n",
    "        key = obj.get(key_field)\n",
    "        if key is not None:\n",
    "            obj_copy = {k: v for k, v in obj.items() if k != key_field}\n",
    "            result_dict[key] = obj_copy\n",
    "        else:\n",
    "            raise KeyError(f\"Key '{key_field}' not found in JSON object: {obj}\")\n",
    "    return result_dict"
   ]
  },
  {
   "cell_type": "code",
   "execution_count": 42,
   "metadata": {},
   "outputs": [],
   "source": [
    "with open('test0.json', 'r') as f:\n",
    "    desc1 = json.load(f)\n",
    "\n",
    "with open('test1.json', 'r') as f:\n",
    "    desc2 = json.load(f)\n",
    "\n",
    "with open('test2.json', 'r') as f:\n",
    "    desc3 = json.load(f)"
   ]
  },
  {
   "cell_type": "code",
   "execution_count": 43,
   "metadata": {},
   "outputs": [],
   "source": [
    "cls1 = jsonConvert(desc1['properties'], 'class')\n",
    "cls1_keys = set(cls1.keys())\n",
    "cls2 = jsonConvert(desc3['properties'], 'class')\n",
    "cls2_keys = set(cls2.keys())"
   ]
  },
  {
   "cell_type": "code",
   "execution_count": 44,
   "metadata": {},
   "outputs": [
    {
     "name": "stdout",
     "output_type": "stream",
     "text": [
      "Cosine similarity of ship: 0.7474093186836597\n",
      "Cosine similarity of harbor: 0.9999999999999999\n"
     ]
    }
   ],
   "source": [
    "for key in cls1_keys:\n",
    "    try:\n",
    "        vectorizer = DictVectorizer(sparse=False)\n",
    "        X = vectorizer.fit_transform([cls1[key], cls2[key]])\n",
    "        similarity = cosine_similarity(X)[0, 1]\n",
    "        print(f\"Cosine similarity of {key}: {similarity}\")\n",
    "    except KeyError:\n",
    "        print(f\"Cosine similarity of {key}: 0\")"
   ]
  },
  {
   "cell_type": "code",
   "execution_count": null,
   "metadata": {},
   "outputs": [],
   "source": []
  }
 ],
 "metadata": {
  "language_info": {
   "name": "python"
  }
 },
 "nbformat": 4,
 "nbformat_minor": 2
}
