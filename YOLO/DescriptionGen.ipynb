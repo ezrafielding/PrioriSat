{
 "cells": [
  {
   "cell_type": "code",
   "execution_count": 1,
   "metadata": {},
   "outputs": [],
   "source": [
    "import pandas as pd\n",
    "import os\n",
    "import json\n",
    "from scipy.spatial.distance import pdist"
   ]
  },
  {
   "cell_type": "code",
   "execution_count": 2,
   "metadata": {},
   "outputs": [],
   "source": [
    "def genDesc(filename):\n",
    "    try:\n",
    "        bb_file = pd.read_csv(filename, sep=' ', header=None)\n",
    "        counts = bb_file[8].value_counts()\n",
    "        text = 'A remote sensing image containing '\n",
    "        prop = []\n",
    "        for label, count in counts.items():\n",
    "            text = text + str(count) + ' ' + label.replace('-', ' ') + 's, '\n",
    "            class_prop = {'class':label, 'count': count}\n",
    "            if count >1:\n",
    "                class_info = bb_file[bb_file[8]==label].drop(9, axis=1)\n",
    "                class_info['x_centroid'] = class_info[[0,2,4,6]].sum(axis=1)/4\n",
    "                class_info['y_centroid'] = class_info[[1,3,5,7]].sum(axis=1)/4\n",
    "                avg_spread = pdist(class_info[['x_centroid', 'y_centroid']].values).mean()\n",
    "                class_prop['avg_spread'] = avg_spread\n",
    "            else:\n",
    "                class_prop['avg_spread'] = None\n",
    "            prop.append(class_prop)\n",
    "        text = text[:-2] + \".\"\n",
    "        return text, prop\n",
    "    except:\n",
    "        return 'A satellite image.', []\n"
   ]
  },
  {
   "cell_type": "code",
   "execution_count": 3,
   "metadata": {},
   "outputs": [],
   "source": [
    "train_descriptions = []\n",
    "val_descriptions = []\n",
    "train_dir = '../datasets/DOTAv2/labels/DOTA-v2.0_train_original_format/'\n",
    "val_dir = '../datasets/DOTAv2/labels/DOTA-v2.0_val_original_format/'\n",
    "train_files = [f for f in os.listdir(train_dir)]\n",
    "val_files = [f for f in os.listdir(val_dir)]\n",
    "\n",
    "for f in train_files:\n",
    "    src_path = os.path.join(train_dir, f)\n",
    "    desc, prop = genDesc(src_path)\n",
    "    dict = {\n",
    "        'filename': f,\n",
    "        'description': desc,\n",
    "        'properties': prop\n",
    "    }\n",
    "    train_descriptions.append(dict)\n",
    "\n",
    "for f in val_files:\n",
    "    src_path = os.path.join(val_dir, f)\n",
    "    desc, prop = genDesc(src_path)\n",
    "    dict = {\n",
    "        'filename': f,\n",
    "        'description': desc,\n",
    "        'properties': prop\n",
    "    }\n",
    "    val_descriptions.append(dict)"
   ]
  },
  {
   "cell_type": "code",
   "execution_count": 4,
   "metadata": {},
   "outputs": [],
   "source": [
    "with open(\"../datasets/DOTAv2/descriptions/train.json\", \"w\") as outfile:\n",
    "    json.dump(train_descriptions, outfile)\n",
    "with open(\"../datasets/DOTAv2/descriptions/val.json\", \"w\") as outfile:\n",
    "    json.dump(val_descriptions, outfile)"
   ]
  },
  {
   "cell_type": "code",
   "execution_count": 5,
   "metadata": {},
   "outputs": [],
   "source": [
    "with open(\"../datasets/DOTAv2/descriptions/train.txt\", \"w\") as outfile:\n",
    "    for desc in train_descriptions:\n",
    "        outfile.write(f\"<s>[INST] Genereate the object bounding box properties for a remote sensing image with the following description: {desc['description']} [/INST] {str(desc['properties'])} </s> \\n\")"
   ]
  },
  {
   "cell_type": "code",
   "execution_count": 6,
   "metadata": {},
   "outputs": [],
   "source": [
    "with open(\"../datasets/DOTAv2/descriptions/train.txt\", \"w\") as outfile:\n",
    "    for desc in val_descriptions:\n",
    "        outfile.write(f\"<s>[INST] Genereate the object bounding box properties for a remote sensing image with the following description: {desc['description']} [/INST] {str(desc['properties'])} </s> \\n\")"
   ]
  }
 ],
 "metadata": {
  "kernelspec": {
   "display_name": "priorisat",
   "language": "python",
   "name": "python3"
  },
  "language_info": {
   "codemirror_mode": {
    "name": "ipython",
    "version": 3
   },
   "file_extension": ".py",
   "mimetype": "text/x-python",
   "name": "python",
   "nbconvert_exporter": "python",
   "pygments_lexer": "ipython3",
   "version": "3.11.7"
  }
 },
 "nbformat": 4,
 "nbformat_minor": 2
}
