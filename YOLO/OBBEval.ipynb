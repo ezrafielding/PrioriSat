{
 "cells": [
  {
   "cell_type": "code",
   "execution_count": null,
   "metadata": {},
   "outputs": [],
   "source": [
    "import torch\n",
    "from transformers import (\n",
    "    AutoModelForCausalLM,\n",
    "    AutoTokenizer,\n",
    "    BitsAndBytesConfig,\n",
    "    pipeline\n",
    ")\n",
    "import pandas as pd\n",
    "import json\n",
    "from sklearn.feature_extraction import DictVectorizer\n",
    "from sklearn.metrics.pairwise import cosine_similarity\n",
    "from tqdm import tqdm\n",
    "from transformers.pipelines.pt_utils import KeyDataset\n",
    "import numpy as np\n",
    "from sklearn.metrics import top_k_accuracy_score"
   ]
  },
  {
   "cell_type": "code",
   "execution_count": null,
   "metadata": {},
   "outputs": [],
   "source": [
    "imgsz=1280"
   ]
  },
  {
   "cell_type": "code",
   "execution_count": null,
   "metadata": {},
   "outputs": [],
   "source": [
    "def jsonConvert(json_list, key_field):\n",
    "    result_dict = {}\n",
    "    for obj in json_list:\n",
    "        key = obj.get(key_field)\n",
    "        if key is not None:\n",
    "            obj_copy = {k: v for k, v in obj.items() if k != key_field}\n",
    "            result_dict[key] = obj_copy\n",
    "        else:\n",
    "            raise KeyError(f\"Key '{key_field}' not found in JSON object: {obj}\")\n",
    "    return result_dict"
   ]
  },
  {
   "cell_type": "code",
   "execution_count": null,
   "metadata": {},
   "outputs": [],
   "source": [
    "base_model = './llama2_dota'\n",
    "\n",
    "compute_dtype = getattr(torch, \"float16\")\n",
    "\n",
    "quant_config = BitsAndBytesConfig(\n",
    "    load_in_4bit=True,\n",
    "    bnb_4bit_quant_type=\"nf4\",\n",
    "    bnb_4bit_compute_dtype=compute_dtype,\n",
    "    bnb_4bit_use_double_quant=False,\n",
    ")\n",
    "model = AutoModelForCausalLM.from_pretrained(\n",
    "    base_model,\n",
    "    quantization_config=quant_config,\n",
    "    device_map={\"\": 0}\n",
    ")\n",
    "tokenizer = AutoTokenizer.from_pretrained(base_model, trust_remote_code=True)\n",
    "tokenizer.pad_token = tokenizer.eos_token\n",
    "tokenizer.padding_side = \"right\""
   ]
  },
  {
   "cell_type": "code",
   "execution_count": null,
   "metadata": {},
   "outputs": [],
   "source": [
    "test_data = pd.read_json('../datasets/DOTAv1.5/descriptions/val.json')\n",
    "pred = pd.read_json(f'./pred{imgsz}.json').drop('description', axis=1).rename(columns={'properties': 'yolo_pred'})\n",
    "test_data = pd.merge(test_data, pred, on='filename', how='inner')\n",
    "\n",
    "descriptions = test_data['description'].values"
   ]
  },
  {
   "cell_type": "code",
   "execution_count": null,
   "metadata": {},
   "outputs": [],
   "source": [
    "y_true = []\n",
    "for i, row in test_data.iterrows():\n",
    "    json_pred = json.loads(str(row['yolo_pred']).replace(\"'\", '\"').replace(\"None\", \"0\"))\n",
    "    y_true.append(jsonConvert(json_pred, 'class'))"
   ]
  },
  {
   "cell_type": "code",
   "execution_count": null,
   "metadata": {},
   "outputs": [],
   "source": [
    "base_prompt = \"Genereate the object bounding box properties for a remote sensing image with the following description as JSON only: \"\n",
    "characters_to_remove = '` \\n'\n",
    "translation_table = str.maketrans('', '', characters_to_remove)\n",
    "\n",
    "errors = 0\n",
    "y_pred = []\n",
    "prompts = []\n",
    "pipe = pipeline(task=\"text-generation\", model=model, tokenizer=tokenizer, max_length=546, truncation=True)\n",
    "for desc in descriptions:\n",
    "    prompt = base_prompt + str(desc)\n",
    "    prompts.append({'text':f\"<s>[INST] {prompt} [/INST]\"})\n",
    "\n",
    "for result in tqdm(pipe(KeyDataset(prompts, 'text'))):\n",
    "    try:\n",
    "        json_only_result = str(result[0]['generated_text'].split('[/INST]')[1]).translate(translation_table).replace(\"'\", '\"').replace(\"None\", \"0\")\n",
    "        index = json_only_result.find(']')\n",
    "        json_only_result = json.loads(json_only_result[:index+1])\n",
    "        y_pred.append(jsonConvert(json_only_result, 'class'))\n",
    "    except:\n",
    "        y_pred.append({})\n",
    "        errors += 1"
   ]
  },
  {
   "cell_type": "code",
   "execution_count": null,
   "metadata": {},
   "outputs": [],
   "source": [
    "similarity_mat = []\n",
    "for y_p in tqdm(y_pred):\n",
    "    avg_sim = []\n",
    "    y_p_keys = set(y_p.keys())\n",
    "\n",
    "    for y_t in y_true:\n",
    "        y_t_keys = set(y_t.keys())\n",
    "\n",
    "        total_sim = 0\n",
    "        for key in y_t_keys:\n",
    "            try:\n",
    "                feats = DictVectorizer().fit_transform([y_t[key], y_p[key]])\n",
    "                similarity = cosine_similarity(feats[0], feats[1])[0][0]\n",
    "                total_sim += similarity\n",
    "            except KeyError:\n",
    "                pass\n",
    "        avg_sim.append(total_sim/len(y_t_keys))\n",
    "    similarity_mat.append(avg_sim)"
   ]
  },
  {
   "cell_type": "code",
   "execution_count": null,
   "metadata": {},
   "outputs": [],
   "source": [
    "similarity = np.stack(similarity_mat)\n",
    "y_desc_true = np.arange(len(y_true))\n",
    "\n",
    "top_k_stats = []\n",
    "# Description-wise\n",
    "top_k_stats.append({'k': 1, 'score': top_k_accuracy_score(y_desc_true, similarity, k=1)})\n",
    "top_k_stats.append({'k': 3, 'score': top_k_accuracy_score(y_desc_true, similarity, k=3)})\n",
    "top_k_stats.append({'k': 5, 'score': top_k_accuracy_score(y_desc_true, similarity, k=5)})\n",
    "top_k_stats.append({'k': 10, 'score': top_k_accuracy_score(y_desc_true, similarity, k=10)})\n",
    "top_k_stats.append({'k': 20, 'score': top_k_accuracy_score(y_desc_true, similarity, k=20)})\n",
    "top_k_stats.append({'k': 30, 'score': top_k_accuracy_score(y_desc_true, similarity, k=30)})"
   ]
  },
  {
   "cell_type": "code",
   "execution_count": null,
   "metadata": {},
   "outputs": [],
   "source": [
    "top_k_stats"
   ]
  },
  {
   "cell_type": "code",
   "execution_count": null,
   "metadata": {},
   "outputs": [],
   "source": [
    "errors"
   ]
  }
 ],
 "metadata": {
  "kernelspec": {
   "display_name": "llm",
   "language": "python",
   "name": "python3"
  },
  "language_info": {
   "codemirror_mode": {
    "name": "ipython",
    "version": 3
   },
   "file_extension": ".py",
   "mimetype": "text/x-python",
   "name": "python",
   "nbconvert_exporter": "python",
   "pygments_lexer": "ipython3",
   "version": "3.11.9"
  }
 },
 "nbformat": 4,
 "nbformat_minor": 2
}
