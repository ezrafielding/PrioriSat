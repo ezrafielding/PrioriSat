{
 "cells": [
  {
   "cell_type": "code",
   "execution_count": 1,
   "metadata": {},
   "outputs": [
    {
     "name": "stderr",
     "output_type": "stream",
     "text": [
      "/home/ezraf/miniconda3/envs/clip/lib/python3.11/site-packages/tqdm/auto.py:21: TqdmWarning: IProgress not found. Please update jupyter and ipywidgets. See https://ipywidgets.readthedocs.io/en/stable/user_install.html\n",
      "  from .autonotebook import tqdm as notebook_tqdm\n"
     ]
    }
   ],
   "source": [
    "import pandas as pd\n",
    "import shutil\n",
    "import os\n",
    "import open_clip\n",
    "import torch\n",
    "import pickle\n",
    "# from transformers import (\n",
    "#     AutoModelForCausalLM,\n",
    "#     AutoTokenizer,\n",
    "#     BitsAndBytesConfig,\n",
    "#     pipeline\n",
    "# )\n",
    "import json\n",
    "from tqdm import tqdm\n",
    "# from transformers.pipelines.pt_utils import KeyDataset"
   ]
  },
  {
   "cell_type": "code",
   "execution_count": 15,
   "metadata": {},
   "outputs": [],
   "source": [
    "def jsonConvert(json_list, key_field):\n",
    "    result_dict = {}\n",
    "    for obj in json_list:\n",
    "        key = obj.get(key_field)\n",
    "        if key is not None:\n",
    "            obj_copy = {k: v for k, v in obj.items() if k != key_field}\n",
    "            result_dict[key] = obj_copy\n",
    "        else:\n",
    "            raise KeyError(f\"Key '{key_field}' not found in JSON object: {obj}\")\n",
    "    return result_dict"
   ]
  },
  {
   "cell_type": "code",
   "execution_count": 2,
   "metadata": {},
   "outputs": [],
   "source": [
    "randomseed = 420"
   ]
  },
  {
   "cell_type": "code",
   "execution_count": 3,
   "metadata": {},
   "outputs": [],
   "source": [
    "test_data = pd.read_csv('../datasets/NWPU-Captions/test.csv', sep='\\t')\n",
    "test_data_onedesc = test_data.groupby('filepath', as_index=False).sample(1, random_state=randomseed).reset_index(drop=True)"
   ]
  },
  {
   "cell_type": "code",
   "execution_count": 4,
   "metadata": {},
   "outputs": [],
   "source": [
    "airplane_df = test_data_onedesc[test_data_onedesc['class']=='airplane'].sample(25, random_state=randomseed).reset_index(drop=True)\n",
    "airplane_df['class_id'] = 0\n",
    "ship_df = test_data_onedesc[test_data_onedesc['class']=='ship'].sample(25, random_state=randomseed).reset_index(drop=True)\n",
    "ship_df['class_id'] = 1\n",
    "basketball_df = test_data_onedesc[test_data_onedesc['class']=='basketball_court'].sample(25, random_state=randomseed).reset_index(drop=True)\n",
    "basketball_df['class_id'] = 2\n",
    "bridge_df = test_data_onedesc[test_data_onedesc['class']=='bridge'].sample(25, random_state=randomseed).reset_index(drop=True)\n",
    "bridge_df['class_id'] = 3"
   ]
  },
  {
   "cell_type": "code",
   "execution_count": 5,
   "metadata": {},
   "outputs": [],
   "source": [
    "four_class_df = pd.concat([airplane_df, ship_df, basketball_df, bridge_df], ignore_index=True).sample(random_state=randomseed, frac=1)"
   ]
  },
  {
   "cell_type": "code",
   "execution_count": 6,
   "metadata": {},
   "outputs": [],
   "source": [
    "dest = '../datasets/PrioEval'\n",
    "\n",
    "for i,row in four_class_df.iterrows():\n",
    "    file_path = row['filepath']\n",
    "    # Extract the filename from the file path\n",
    "    file_name = os.path.basename(file_path)\n",
    "    \n",
    "    # Construct the full destination path\n",
    "    destination_path = os.path.join(dest, file_name)\n",
    "    \n",
    "    # Copy the file to the destination directory\n",
    "    shutil.copy(file_path, destination_path)\n",
    "    row['filepath'] = destination_path\n"
   ]
  },
  {
   "cell_type": "code",
   "execution_count": 7,
   "metadata": {},
   "outputs": [],
   "source": [
    "four_class_df.to_csv('./PrioEval.csv', sep='\\t')"
   ]
  },
  {
   "cell_type": "code",
   "execution_count": 10,
   "metadata": {},
   "outputs": [
    {
     "data": {
      "text/plain": [
       "12    An aerial photograph with description: A plane...\n",
       "48    An aerial photograph with description: The car...\n",
       "41    An aerial photograph with description: An oran...\n",
       "21    An aerial photograph with description: There a...\n",
       "45    An aerial photograph with description: A light...\n",
       "                            ...                        \n",
       "31    An aerial photograph with description: A red a...\n",
       "63    An aerial photograph with description: There a...\n",
       "6     An aerial photograph with description: Two pla...\n",
       "72    An aerial photograph with description: Two bas...\n",
       "49    An aerial photograph with description: There a...\n",
       "Name: caption, Length: 100, dtype: object"
      ]
     },
     "execution_count": 10,
     "metadata": {},
     "output_type": "execute_result"
    }
   ],
   "source": [
    "four_class_df['caption']"
   ]
  },
  {
   "cell_type": "code",
   "execution_count": 3,
   "metadata": {},
   "outputs": [],
   "source": [
    "clip_eval_captions = [\n",
    "    \"An aerial photograph with description: A plane on the ground.\",\n",
    "    \"An aerial photograph with description: A ship or boat in the water.\",\n",
    "    \"An aerial photograph with description: A basketball court is present.\",\n",
    "    \"An aerial photograph with description: A bridge is present.\"\n",
    "]"
   ]
  },
  {
   "cell_type": "code",
   "execution_count": 4,
   "metadata": {},
   "outputs": [
    {
     "name": "stdout",
     "output_type": "stream",
     "text": [
      "Torch device:  cuda\n"
     ]
    },
    {
     "name": "stderr",
     "output_type": "stream",
     "text": [
      "/home/ezraf/miniconda3/envs/clip/lib/python3.11/site-packages/open_clip/factory.py:129: FutureWarning: You are using `torch.load` with `weights_only=False` (the current default value), which uses the default pickle module implicitly. It is possible to construct malicious pickle data which will execute arbitrary code during unpickling (See https://github.com/pytorch/pytorch/blob/main/SECURITY.md#untrusted-models for more details). In a future release, the default value for `weights_only` will be flipped to `True`. This limits the functions that could be executed during unpickling. Arbitrary objects will no longer be allowed to be loaded via this mode unless they are explicitly allowlisted by the user via `torch.serialization.add_safe_globals`. We recommend you start setting `weights_only=True` for any use case where you don't have full control of the loaded file. Please open an issue on GitHub for any issues related to this experimental feature.\n",
      "  checkpoint = torch.load(checkpoint_path, map_location=map_location)\n"
     ]
    }
   ],
   "source": [
    "device = 'cuda' if torch.cuda.is_available() else 'cpu'\n",
    "print('Torch device: ', device)\n",
    "base_model = 'ViT-B-16'\n",
    "model, _, preprocess = open_clip.create_model_and_transforms(base_model, pretrained=f'./CLIP/{base_model}.pt')\n",
    "model.eval()  # model in train mode by default, impacts some models with BatchNorm or stochastic depth active\n",
    "tokenizer = open_clip.get_tokenizer(base_model)\n",
    "text_tokens = tokenizer(clip_eval_captions)\n",
    "with torch.no_grad():\n",
    "        text_features = model.encode_text(text_tokens).float()\n",
    "        text_features /= text_features.norm(dim=-1, keepdim=True)"
   ]
  },
  {
   "cell_type": "code",
   "execution_count": 5,
   "metadata": {},
   "outputs": [],
   "source": [
    "with open(f'./CLIP/desc_{base_model}.pkl', 'wb') as file:\n",
    "    pickle.dump(text_features, file)"
   ]
  },
  {
   "cell_type": "code",
   "execution_count": 7,
   "metadata": {},
   "outputs": [],
   "source": [
    "obb_eval_captions = [\n",
    "    'A remote sensing image containing more than 2 planes with any average distance.',\n",
    "    'A remote sensing image containing more than 2 ships with any average distance.',\n",
    "    'A remote sensing image containing more than 2 backetball courts with any average distance.',\n",
    "    'A remote sensing image containing more than 2 bridges with any average distance.'\n",
    "]"
   ]
  },
  {
   "cell_type": "code",
   "execution_count": 3,
   "metadata": {},
   "outputs": [
    {
     "name": "stderr",
     "output_type": "stream",
     "text": [
      "Loading checkpoint shards: 100%|██████████| 2/2 [00:06<00:00,  3.31s/it]\n"
     ]
    }
   ],
   "source": [
    "base_model = '../OBB/llama2_dota'\n",
    "\n",
    "compute_dtype = getattr(torch, \"float16\")\n",
    "\n",
    "quant_config = BitsAndBytesConfig(\n",
    "    load_in_4bit=True,\n",
    "    bnb_4bit_quant_type=\"nf4\",\n",
    "    bnb_4bit_compute_dtype=compute_dtype,\n",
    "    bnb_4bit_use_double_quant=False,\n",
    ")\n",
    "model = AutoModelForCausalLM.from_pretrained(\n",
    "    base_model,\n",
    "    quantization_config=quant_config,\n",
    "    device_map={\"\": 0}\n",
    ")\n",
    "tokenizer = AutoTokenizer.from_pretrained(base_model, trust_remote_code=True)\n",
    "tokenizer.pad_token = tokenizer.eos_token\n",
    "tokenizer.padding_side = \"right\""
   ]
  },
  {
   "cell_type": "code",
   "execution_count": 20,
   "metadata": {},
   "outputs": [
    {
     "name": "stderr",
     "output_type": "stream",
     "text": [
      "100%|██████████| 4/4 [00:02<00:00,  1.90it/s]\n"
     ]
    }
   ],
   "source": [
    "base_prompt = \"Genereate the object bounding box properties for a remote sensing image with the following description as JSON only: \"\n",
    "characters_to_remove = '` \\n'\n",
    "translation_table = str.maketrans('', '', characters_to_remove)\n",
    "\n",
    "errors = 0\n",
    "y_pred = []\n",
    "prompts = []\n",
    "pipe = pipeline(task=\"text-generation\", model=model, tokenizer=tokenizer, max_length=546, truncation=True)\n",
    "for desc in obb_eval_captions:\n",
    "    prompt = base_prompt + str(desc)\n",
    "    prompts.append({'text':f\"<s>[INST] {prompt} [/INST]\"})\n",
    "\n",
    "for result in tqdm(pipe(KeyDataset(prompts, 'text'))):\n",
    "    try:\n",
    "        json_only_result = str(result[0]['generated_text'].split('[/INST]')[1]).translate(translation_table).replace(\"'\", '\"').replace(\"None\", \"0\")\n",
    "        index = json_only_result.find(']')\n",
    "        json_only_result = json.loads(json_only_result[:index+1])\n",
    "        y_pred.append(jsonConvert(json_only_result, 'class'))\n",
    "    except:\n",
    "        y_pred.append({})\n",
    "        errors += 1"
   ]
  },
  {
   "cell_type": "code",
   "execution_count": 21,
   "metadata": {},
   "outputs": [
    {
     "data": {
      "text/plain": [
       "[{'plane': {'count': 3, 'avg_dist': 0}},\n",
       " {'ship': {'count': 2, 'avg_dist': 0}},\n",
       " {'backetball-court': {'count': 3, 'avg_dist': 0}},\n",
       " {'bridge': {'count': 3, 'avg_dist': 0}}]"
      ]
     },
     "execution_count": 21,
     "metadata": {},
     "output_type": "execute_result"
    }
   ],
   "source": [
    "y_pred"
   ]
  },
  {
   "cell_type": "code",
   "execution_count": 22,
   "metadata": {},
   "outputs": [],
   "source": [
    "with open('./YOLO/desc.pkl', 'wb') as file:\n",
    "    pickle.dump(y_pred, file)"
   ]
  },
  {
   "cell_type": "code",
   "execution_count": 7,
   "metadata": {},
   "outputs": [],
   "source": [
    "pd.read_csv('./PrioEval.csv', sep='\\t').drop(labels=['Unnamed: 0'], axis=1).to_csv('./PrioEval.csv', sep='\\t', index=False)"
   ]
  },
  {
   "cell_type": "code",
   "execution_count": null,
   "metadata": {},
   "outputs": [],
   "source": []
  }
 ],
 "metadata": {
  "kernelspec": {
   "display_name": "clip",
   "language": "python",
   "name": "python3"
  },
  "language_info": {
   "codemirror_mode": {
    "name": "ipython",
    "version": 3
   },
   "file_extension": ".py",
   "mimetype": "text/x-python",
   "name": "python",
   "nbconvert_exporter": "python",
   "pygments_lexer": "ipython3",
   "version": "3.11.9"
  }
 },
 "nbformat": 4,
 "nbformat_minor": 2
}
