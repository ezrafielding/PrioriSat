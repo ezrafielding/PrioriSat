{
 "cells": [
  {
   "cell_type": "code",
   "execution_count": 1,
   "metadata": {},
   "outputs": [
    {
     "name": "stderr",
     "output_type": "stream",
     "text": [
      "/home/ezraf/miniconda3/envs/llm/lib/python3.11/site-packages/tqdm/auto.py:21: TqdmWarning: IProgress not found. Please update jupyter and ipywidgets. See https://ipywidgets.readthedocs.io/en/stable/user_install.html\n",
      "  from .autonotebook import tqdm as notebook_tqdm\n"
     ]
    }
   ],
   "source": [
    "import torch\n",
    "from transformers import (\n",
    "    AutoModelForCausalLM,\n",
    "    AutoTokenizer,\n",
    "    BitsAndBytesConfig,\n",
    "    pipeline\n",
    ")\n",
    "import pandas as pd\n",
    "import json\n",
    "from sklearn.feature_extraction import DictVectorizer\n",
    "from sklearn.metrics.pairwise import cosine_similarity\n",
    "from tqdm import tqdm\n",
    "from transformers.pipelines.pt_utils import KeyDataset\n",
    "import numpy as np\n",
    "from sklearn.metrics import top_k_accuracy_score"
   ]
  },
  {
   "cell_type": "code",
   "execution_count": 2,
   "metadata": {},
   "outputs": [],
   "source": [
    "def jsonConvert(json_list, key_field):\n",
    "    result_dict = {}\n",
    "    for obj in json_list:\n",
    "        key = obj.get(key_field)\n",
    "        if key is not None:\n",
    "            obj_copy = {k: v for k, v in obj.items() if k != key_field}\n",
    "            result_dict[key] = obj_copy\n",
    "        else:\n",
    "            raise KeyError(f\"Key '{key_field}' not found in JSON object: {obj}\")\n",
    "    return result_dict"
   ]
  },
  {
   "cell_type": "code",
   "execution_count": 3,
   "metadata": {},
   "outputs": [
    {
     "data": {
      "text/html": [
       "<div>\n",
       "<style scoped>\n",
       "    .dataframe tbody tr th:only-of-type {\n",
       "        vertical-align: middle;\n",
       "    }\n",
       "\n",
       "    .dataframe tbody tr th {\n",
       "        vertical-align: top;\n",
       "    }\n",
       "\n",
       "    .dataframe thead th {\n",
       "        text-align: right;\n",
       "    }\n",
       "</style>\n",
       "<table border=\"1\" class=\"dataframe\">\n",
       "  <thead>\n",
       "    <tr style=\"text-align: right;\">\n",
       "      <th></th>\n",
       "      <th>filename</th>\n",
       "      <th>description</th>\n",
       "      <th>properties</th>\n",
       "    </tr>\n",
       "  </thead>\n",
       "  <tbody>\n",
       "    <tr>\n",
       "      <th>0</th>\n",
       "      <td>P2215.txt</td>\n",
       "      <td>A remote sensing image containing 25 planes wi...</td>\n",
       "      <td>[{'class': 'plane', 'count': 25, 'avg_dist': 2...</td>\n",
       "    </tr>\n",
       "    <tr>\n",
       "      <th>1</th>\n",
       "      <td>P1610.txt</td>\n",
       "      <td>A remote sensing image containing 31 planes wi...</td>\n",
       "      <td>[{'class': 'plane', 'count': 31, 'avg_dist': 2...</td>\n",
       "    </tr>\n",
       "    <tr>\n",
       "      <th>2</th>\n",
       "      <td>P0787.txt</td>\n",
       "      <td>A remote sensing image containing 55 large veh...</td>\n",
       "      <td>[{'class': 'large-vehicle', 'count': 55, 'avg_...</td>\n",
       "    </tr>\n",
       "    <tr>\n",
       "      <th>3</th>\n",
       "      <td>P1213.txt</td>\n",
       "      <td>A remote sensing image containing 2 ships with...</td>\n",
       "      <td>[{'class': 'ship', 'count': 2, 'avg_dist': 231...</td>\n",
       "    </tr>\n",
       "    <tr>\n",
       "      <th>4</th>\n",
       "      <td>P0953.txt</td>\n",
       "      <td>A remote sensing image containing 11 harbors w...</td>\n",
       "      <td>[{'class': 'harbor', 'count': 11, 'avg_dist': ...</td>\n",
       "    </tr>\n",
       "    <tr>\n",
       "      <th>...</th>\n",
       "      <td>...</td>\n",
       "      <td>...</td>\n",
       "      <td>...</td>\n",
       "    </tr>\n",
       "    <tr>\n",
       "      <th>453</th>\n",
       "      <td>P0882.txt</td>\n",
       "      <td>A remote sensing image containing 55 small veh...</td>\n",
       "      <td>[{'class': 'small-vehicle', 'count': 55, 'avg_...</td>\n",
       "    </tr>\n",
       "    <tr>\n",
       "      <th>454</th>\n",
       "      <td>P2378.txt</td>\n",
       "      <td>A remote sensing image containing 1 ground tra...</td>\n",
       "      <td>[{'class': 'ground-track-field', 'count': 1, '...</td>\n",
       "    </tr>\n",
       "    <tr>\n",
       "      <th>455</th>\n",
       "      <td>P2539.txt</td>\n",
       "      <td>A remote sensing image containing 2 roundabout...</td>\n",
       "      <td>[{'class': 'roundabout', 'count': 2, 'avg_dist...</td>\n",
       "    </tr>\n",
       "    <tr>\n",
       "      <th>456</th>\n",
       "      <td>P2794.txt</td>\n",
       "      <td>A remote sensing image containing 135 small ve...</td>\n",
       "      <td>[{'class': 'small-vehicle', 'count': 135, 'avg...</td>\n",
       "    </tr>\n",
       "    <tr>\n",
       "      <th>457</th>\n",
       "      <td>P2610.txt</td>\n",
       "      <td>A remote sensing image containing 104 small ve...</td>\n",
       "      <td>[{'class': 'small-vehicle', 'count': 104, 'avg...</td>\n",
       "    </tr>\n",
       "  </tbody>\n",
       "</table>\n",
       "<p>458 rows × 3 columns</p>\n",
       "</div>"
      ],
      "text/plain": [
       "      filename                                        description  \\\n",
       "0    P2215.txt  A remote sensing image containing 25 planes wi...   \n",
       "1    P1610.txt  A remote sensing image containing 31 planes wi...   \n",
       "2    P0787.txt  A remote sensing image containing 55 large veh...   \n",
       "3    P1213.txt  A remote sensing image containing 2 ships with...   \n",
       "4    P0953.txt  A remote sensing image containing 11 harbors w...   \n",
       "..         ...                                                ...   \n",
       "453  P0882.txt  A remote sensing image containing 55 small veh...   \n",
       "454  P2378.txt  A remote sensing image containing 1 ground tra...   \n",
       "455  P2539.txt  A remote sensing image containing 2 roundabout...   \n",
       "456  P2794.txt  A remote sensing image containing 135 small ve...   \n",
       "457  P2610.txt  A remote sensing image containing 104 small ve...   \n",
       "\n",
       "                                            properties  \n",
       "0    [{'class': 'plane', 'count': 25, 'avg_dist': 2...  \n",
       "1    [{'class': 'plane', 'count': 31, 'avg_dist': 2...  \n",
       "2    [{'class': 'large-vehicle', 'count': 55, 'avg_...  \n",
       "3    [{'class': 'ship', 'count': 2, 'avg_dist': 231...  \n",
       "4    [{'class': 'harbor', 'count': 11, 'avg_dist': ...  \n",
       "..                                                 ...  \n",
       "453  [{'class': 'small-vehicle', 'count': 55, 'avg_...  \n",
       "454  [{'class': 'ground-track-field', 'count': 1, '...  \n",
       "455  [{'class': 'roundabout', 'count': 2, 'avg_dist...  \n",
       "456  [{'class': 'small-vehicle', 'count': 135, 'avg...  \n",
       "457  [{'class': 'small-vehicle', 'count': 104, 'avg...  \n",
       "\n",
       "[458 rows x 3 columns]"
      ]
     },
     "execution_count": 3,
     "metadata": {},
     "output_type": "execute_result"
    }
   ],
   "source": [
    "test_data = pd.read_json('../datasets/DOTAv1.5/descriptions/val.json')\n",
    "test_data"
   ]
  },
  {
   "cell_type": "code",
   "execution_count": 4,
   "metadata": {},
   "outputs": [],
   "source": [
    "base_model = './llama2_dota'\n",
    "\n",
    "compute_dtype = getattr(torch, \"float16\")\n",
    "\n",
    "quant_config = BitsAndBytesConfig(\n",
    "    load_in_4bit=True,\n",
    "    bnb_4bit_quant_type=\"nf4\",\n",
    "    bnb_4bit_compute_dtype=compute_dtype,\n",
    "    bnb_4bit_use_double_quant=False,\n",
    ")"
   ]
  },
  {
   "cell_type": "code",
   "execution_count": 5,
   "metadata": {},
   "outputs": [
    {
     "name": "stderr",
     "output_type": "stream",
     "text": [
      "Loading checkpoint shards: 100%|██████████| 2/2 [00:08<00:00,  4.06s/it]\n"
     ]
    }
   ],
   "source": [
    "model = AutoModelForCausalLM.from_pretrained(\n",
    "    base_model,\n",
    "    quantization_config=quant_config,\n",
    "    device_map={\"\": 0}\n",
    ")"
   ]
  },
  {
   "cell_type": "code",
   "execution_count": 6,
   "metadata": {},
   "outputs": [],
   "source": [
    "tokenizer = AutoTokenizer.from_pretrained(base_model, trust_remote_code=True)\n",
    "tokenizer.pad_token = tokenizer.eos_token\n",
    "tokenizer.padding_side = \"right\""
   ]
  },
  {
   "cell_type": "code",
   "execution_count": 7,
   "metadata": {},
   "outputs": [
    {
     "name": "stderr",
     "output_type": "stream",
     "text": [
      "Truncation was not explicitly activated but `max_length` is provided a specific value, please use `truncation=True` to explicitly truncate examples to max length. Defaulting to 'longest_first' truncation strategy. If you encode pairs of sequences (GLUE-style) with the tokenizer you can select this strategy more precisely by providing a specific strategy to `truncation`.\n"
     ]
    },
    {
     "name": "stdout",
     "output_type": "stream",
     "text": [
      "<s>[INST] Genereate the object bounding box properties for a remote sensing image with the following description as JSON only: A remote sensing image containing 20 small vehicles, 4 tennis courts, 1 basketball courts, 1 soccer ball fields. [/INST] [{'class':'small-vehicle', 'count': 20, 'avg_dist': None}, {'class': 'tennis-court', 'count': 4, 'avg_dist': None}, {'class': 'basketball-court', 'count': 1, 'avg_dist': None}, {'class':'soccer-ball-field', 'count': 1, 'avg_dist': None}]\n",
      "```\n"
     ]
    }
   ],
   "source": [
    "prompt = \"Genereate the object bounding box properties for a remote sensing image with the following description as JSON only: A remote sensing image containing 20 small vehicles, 4 tennis courts, 1 basketball courts, 1 soccer ball fields.\"\n",
    "pipe = pipeline(task=\"text-generation\", model=model, tokenizer=tokenizer, max_length=200)\n",
    "result = pipe(f\"<s>[INST] {prompt} [/INST]\")\n",
    "print(result[0]['generated_text'])"
   ]
  },
  {
   "cell_type": "code",
   "execution_count": 8,
   "metadata": {},
   "outputs": [
    {
     "data": {
      "text/plain": [
       "[{'class': 'small-vehicle', 'count': 20, 'avg_dist': 0},\n",
       " {'class': 'tennis-court', 'count': 4, 'avg_dist': 0},\n",
       " {'class': 'basketball-court', 'count': 1, 'avg_dist': 0},\n",
       " {'class': 'soccer-ball-field', 'count': 1, 'avg_dist': 0}]"
      ]
     },
     "execution_count": 8,
     "metadata": {},
     "output_type": "execute_result"
    }
   ],
   "source": [
    "characters_to_remove = '` \\n'\n",
    "translation_table = str.maketrans('', '', characters_to_remove)\n",
    "json_only = str(result[0]['generated_text'].split('[/INST]')[1]).translate(translation_table).replace(\"'\", '\"').replace(\"None\", \"0\")\n",
    "json.loads(json_only)"
   ]
  },
  {
   "cell_type": "code",
   "execution_count": 9,
   "metadata": {},
   "outputs": [],
   "source": [
    "descriptions = test_data['description'].values"
   ]
  },
  {
   "cell_type": "code",
   "execution_count": 10,
   "metadata": {},
   "outputs": [
    {
     "name": "stderr",
     "output_type": "stream",
     "text": [
      "100%|██████████| 458/458 [18:21<00:00,  2.40s/it]\n"
     ]
    }
   ],
   "source": [
    "base_prompt = \"Genereate the object bounding box properties for a remote sensing image with the following description as JSON only: \"\n",
    "characters_to_remove = '` \\n'\n",
    "translation_table = str.maketrans('', '', characters_to_remove)\n",
    "\n",
    "errors = 0\n",
    "y_pred = []\n",
    "prompts = []\n",
    "pipe = pipeline(task=\"text-generation\", model=model, tokenizer=tokenizer, max_length=546, truncation=True)\n",
    "for desc in descriptions:\n",
    "    prompt = base_prompt + str(desc)\n",
    "    prompts.append({'text':f\"<s>[INST] {prompt} [/INST]\"})\n",
    "\n",
    "for result in tqdm(pipe(KeyDataset(prompts, 'text'))):\n",
    "    try:\n",
    "        json_only_result = str(result[0]['generated_text'].split('[/INST]')[1]).translate(translation_table).replace(\"'\", '\"').replace(\"None\", \"0\")\n",
    "        index = json_only_result.find(']')\n",
    "        json_only_result = json.loads(json_only_result[:index+1])\n",
    "        y_pred.append(jsonConvert(json_only_result, 'class'))\n",
    "    except:\n",
    "        y_pred.append({})\n",
    "        errors += 1\n",
    "\n",
    "y_true = []\n",
    "for i, row in test_data.iterrows():\n",
    "    json_truth = json.loads(str(row['properties']).replace(\"'\", '\"').replace(\"None\", \"0\"))\n",
    "    y_true.append(jsonConvert(json_truth, 'class'))"
   ]
  },
  {
   "cell_type": "code",
   "execution_count": 11,
   "metadata": {},
   "outputs": [
    {
     "name": "stderr",
     "output_type": "stream",
     "text": [
      "100%|██████████| 458/458 [01:05<00:00,  7.03it/s]\n"
     ]
    }
   ],
   "source": [
    "similarity_mat = []\n",
    "for y_p in tqdm(y_pred):\n",
    "    avg_sim = []\n",
    "    y_p_keys = set(y_p.keys())\n",
    "\n",
    "    for y_t in y_true:\n",
    "        y_t_keys = set(y_t.keys())\n",
    "\n",
    "        total_sim = 0\n",
    "        for key in y_t_keys:\n",
    "            try:\n",
    "                feats = DictVectorizer().fit_transform([y_t[key], y_p[key]])\n",
    "                similarity = cosine_similarity(feats[0], feats[1])[0][0]\n",
    "                total_sim += similarity\n",
    "            except KeyError:\n",
    "                pass\n",
    "        avg_sim.append(total_sim/len(y_t_keys))\n",
    "    similarity_mat.append(avg_sim)"
   ]
  },
  {
   "cell_type": "code",
   "execution_count": 12,
   "metadata": {},
   "outputs": [],
   "source": [
    "similarity = np.stack(similarity_mat)\n",
    "y_desc_true = np.arange(len(y_true))\n",
    "\n",
    "top_k_stats = []\n",
    "# Description-wise\n",
    "top_k_stats.append({'k': 1, 'score': top_k_accuracy_score(y_desc_true, similarity, k=1)})\n",
    "top_k_stats.append({'k': 3, 'score': top_k_accuracy_score(y_desc_true, similarity, k=3)})\n",
    "top_k_stats.append({'k': 5, 'score': top_k_accuracy_score(y_desc_true, similarity, k=5)})\n",
    "top_k_stats.append({'k': 10, 'score': top_k_accuracy_score(y_desc_true, similarity, k=10)})\n",
    "top_k_stats.append({'k': 20, 'score': top_k_accuracy_score(y_desc_true, similarity, k=20)})\n",
    "top_k_stats.append({'k': 30, 'score': top_k_accuracy_score(y_desc_true, similarity, k=30)})"
   ]
  },
  {
   "cell_type": "code",
   "execution_count": 13,
   "metadata": {},
   "outputs": [
    {
     "data": {
      "text/plain": [
       "3"
      ]
     },
     "execution_count": 13,
     "metadata": {},
     "output_type": "execute_result"
    }
   ],
   "source": [
    "errors"
   ]
  },
  {
   "cell_type": "code",
   "execution_count": 15,
   "metadata": {},
   "outputs": [
    {
     "data": {
      "text/plain": [
       "[{'k': 1, 'score': 0.7860262008733624},\n",
       " {'k': 3, 'score': 0.9235807860262009},\n",
       " {'k': 5, 'score': 0.9388646288209607},\n",
       " {'k': 10, 'score': 0.9934497816593887},\n",
       " {'k': 20, 'score': 0.9934497816593887},\n",
       " {'k': 30, 'score': 0.9934497816593887}]"
      ]
     },
     "execution_count": 15,
     "metadata": {},
     "output_type": "execute_result"
    }
   ],
   "source": [
    "top_k_stats"
   ]
  },
  {
   "cell_type": "code",
   "execution_count": 14,
   "metadata": {},
   "outputs": [
    {
     "data": {
      "text/plain": [
       "0.9934497810842094"
      ]
     },
     "execution_count": 14,
     "metadata": {},
     "output_type": "execute_result"
    }
   ],
   "source": [
    "avg_correct_cos = 0\n",
    "for i, sim in enumerate(similarity):\n",
    "    avg_correct_cos += sim[y_desc_true[i]]\n",
    "\n",
    "avg_correct_cos /= len(similarity)\n",
    "avg_correct_cos"
   ]
  },
  {
   "cell_type": "code",
   "execution_count": null,
   "metadata": {},
   "outputs": [],
   "source": []
  }
 ],
 "metadata": {
  "kernelspec": {
   "display_name": "priorisat",
   "language": "python",
   "name": "python3"
  },
  "language_info": {
   "codemirror_mode": {
    "name": "ipython",
    "version": 3
   },
   "file_extension": ".py",
   "mimetype": "text/x-python",
   "name": "python",
   "nbconvert_exporter": "python",
   "pygments_lexer": "ipython3",
   "version": "3.11.9"
  }
 },
 "nbformat": 4,
 "nbformat_minor": 2
}
