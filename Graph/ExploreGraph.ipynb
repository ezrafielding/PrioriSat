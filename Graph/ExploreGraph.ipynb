{
 "cells": [
  {
   "cell_type": "code",
   "execution_count": 2,
   "metadata": {},
   "outputs": [],
   "source": [
    "import pickle\n",
    "import numpy as np\n",
    "import os\n",
    "import pandas as pd"
   ]
  },
  {
   "cell_type": "code",
   "execution_count": 4,
   "metadata": {},
   "outputs": [],
   "source": [
    "with open(os.path.join('../datasets/NWPU-Captions/NWPU_Graphs/train', 'graphs.pkl'), 'rb') as f:\n",
    "    train_adjs = pickle.load(f)\n",
    "with open(os.path.join('../datasets/NWPU-Captions/NWPU_Graphs/train', 'properties.pkl'), 'rb') as f:\n",
    "    train_properties = pickle.load(f)\n",
    "with open(os.path.join('../datasets/NWPU-Captions/NWPU_Graphs/train', 'descriptions.pkl'), 'rb') as f:\n",
    "    train_desc = pickle.load(f)\n",
    "\n",
    "with open(os.path.join('../datasets/NWPU-Captions/NWPU_Graphs/test', 'graphs.pkl'), 'rb') as f:\n",
    "    test_adjs = pickle.load(f)\n",
    "with open(os.path.join('../datasets/NWPU-Captions/NWPU_Graphs/test', 'properties.pkl'), 'rb') as f:\n",
    "    test_properties = pickle.load(f)\n",
    "with open(os.path.join('../datasets/NWPU-Captions/NWPU_Graphs/test', 'descriptions.pkl'), 'rb') as f:\n",
    "    test_desc = pickle.load(f)\n",
    "\n",
    "with open(os.path.join('../datasets/NWPU-Captions/NWPU_Graphs/dev', 'graphs.pkl'), 'rb') as f:\n",
    "    val_adjs = pickle.load(f)\n",
    "with open(os.path.join('../datasets/NWPU-Captions/NWPU_Graphs/dev', 'properties.pkl'), 'rb') as f:\n",
    "    val_properties = pickle.load(f)\n",
    "with open(os.path.join('../datasets/NWPU-Captions/NWPU_Graphs/dev', 'descriptions.pkl'), 'rb') as f:\n",
    "    val_desc = pickle.load(f)"
   ]
  },
  {
   "cell_type": "code",
   "execution_count": 5,
   "metadata": {},
   "outputs": [
    {
     "data": {
      "text/html": [
       "<div>\n",
       "<style scoped>\n",
       "    .dataframe tbody tr th:only-of-type {\n",
       "        vertical-align: middle;\n",
       "    }\n",
       "\n",
       "    .dataframe tbody tr th {\n",
       "        vertical-align: top;\n",
       "    }\n",
       "\n",
       "    .dataframe thead th {\n",
       "        text-align: right;\n",
       "    }\n",
       "</style>\n",
       "<table border=\"1\" class=\"dataframe\">\n",
       "  <thead>\n",
       "    <tr style=\"text-align: right;\">\n",
       "      <th></th>\n",
       "      <th>0</th>\n",
       "    </tr>\n",
       "  </thead>\n",
       "  <tbody>\n",
       "    <tr>\n",
       "      <th>0</th>\n",
       "      <td>Two planes parked next to boarding bridges and...</td>\n",
       "    </tr>\n",
       "    <tr>\n",
       "      <th>1</th>\n",
       "      <td>Two aircraft were parked at the departure gate...</td>\n",
       "    </tr>\n",
       "    <tr>\n",
       "      <th>2</th>\n",
       "      <td>Several planes of the same size parked neatly ...</td>\n",
       "    </tr>\n",
       "    <tr>\n",
       "      <th>3</th>\n",
       "      <td>Three planes are parked on the open space next...</td>\n",
       "    </tr>\n",
       "    <tr>\n",
       "      <th>4</th>\n",
       "      <td>Three planes are in the parking lot next to th...</td>\n",
       "    </tr>\n",
       "    <tr>\n",
       "      <th>...</th>\n",
       "      <td>...</td>\n",
       "    </tr>\n",
       "    <tr>\n",
       "      <th>15745</th>\n",
       "      <td>There is hardly any vegetation in this wetland .</td>\n",
       "    </tr>\n",
       "    <tr>\n",
       "      <th>15746</th>\n",
       "      <td>The river surface in a wetland is covered with...</td>\n",
       "    </tr>\n",
       "    <tr>\n",
       "      <th>15747</th>\n",
       "      <td>The wetland consists of dry and green plants a...</td>\n",
       "    </tr>\n",
       "    <tr>\n",
       "      <th>15748</th>\n",
       "      <td>There are many different shapes and sizes of w...</td>\n",
       "    </tr>\n",
       "    <tr>\n",
       "      <th>15749</th>\n",
       "      <td>There are many green areas and water areas on ...</td>\n",
       "    </tr>\n",
       "  </tbody>\n",
       "</table>\n",
       "<p>15750 rows × 1 columns</p>\n",
       "</div>"
      ],
      "text/plain": [
       "                                                       0\n",
       "0      Two planes parked next to boarding bridges and...\n",
       "1      Two aircraft were parked at the departure gate...\n",
       "2      Several planes of the same size parked neatly ...\n",
       "3      Three planes are parked on the open space next...\n",
       "4      Three planes are in the parking lot next to th...\n",
       "...                                                  ...\n",
       "15745   There is hardly any vegetation in this wetland .\n",
       "15746  The river surface in a wetland is covered with...\n",
       "15747  The wetland consists of dry and green plants a...\n",
       "15748  There are many different shapes and sizes of w...\n",
       "15749  There are many green areas and water areas on ...\n",
       "\n",
       "[15750 rows x 1 columns]"
      ]
     },
     "execution_count": 5,
     "metadata": {},
     "output_type": "execute_result"
    }
   ],
   "source": [
    "pd.DataFrame(val_desc)"
   ]
  },
  {
   "cell_type": "code",
   "execution_count": null,
   "metadata": {},
   "outputs": [],
   "source": []
  }
 ],
 "metadata": {
  "kernelspec": {
   "display_name": "priorisat",
   "language": "python",
   "name": "python3"
  },
  "language_info": {
   "codemirror_mode": {
    "name": "ipython",
    "version": 3
   },
   "file_extension": ".py",
   "mimetype": "text/x-python",
   "name": "python",
   "nbconvert_exporter": "python",
   "pygments_lexer": "ipython3",
   "version": "3.11.7"
  }
 },
 "nbformat": 4,
 "nbformat_minor": 2
}
