{
 "cells": [
  {
   "cell_type": "code",
   "execution_count": 1,
   "metadata": {},
   "outputs": [],
   "source": [
    "import pandas as pd\n",
    "import os\n",
    "import json"
   ]
  },
  {
   "cell_type": "code",
   "execution_count": 2,
   "metadata": {},
   "outputs": [],
   "source": [
    "def genDesc(filename):\n",
    "    try:\n",
    "        bb_file = pd.read_csv(filename, sep=' ', header=None)\n",
    "        counts = bb_file[8].value_counts()\n",
    "        text = 'A satellite image containing '\n",
    "        for label, count in counts.items():\n",
    "            text = text + str(count) + ' ' + label.replace('-', ' ') + 's, '\n",
    "        text = text[:-2] + \".\"\n",
    "        return text\n",
    "    except:\n",
    "        return 'A satellite image.'\n"
   ]
  },
  {
   "cell_type": "code",
   "execution_count": 3,
   "metadata": {},
   "outputs": [],
   "source": [
    "train_descriptions = []\n",
    "val_descriptions = []\n",
    "train_dir = './datasets/DOTAv2/labels/DOTA-v2.0_train_original_format/'\n",
    "val_dir = './datasets/DOTAv2/labels/DOTA-v2.0_val_original_format/'\n",
    "train_files = [f for f in os.listdir(train_dir)]\n",
    "val_files = [f for f in os.listdir(val_dir)]\n",
    "\n",
    "for f in train_files:\n",
    "    src_path = os.path.join(train_dir, f)\n",
    "    desc = genDesc(src_path)\n",
    "    dict = {\n",
    "        'filename': f,\n",
    "        'description': desc\n",
    "    }\n",
    "    train_descriptions.append(dict)\n",
    "\n",
    "for f in val_files:\n",
    "    src_path = os.path.join(val_dir, f)\n",
    "    desc = genDesc(src_path)\n",
    "    dict = {\n",
    "        'filename': f,\n",
    "        'description': desc\n",
    "    }\n",
    "    val_descriptions.append(dict)"
   ]
  },
  {
   "cell_type": "code",
   "execution_count": 4,
   "metadata": {},
   "outputs": [],
   "source": [
    "with open(\"./datasets/DOTAv2/descriptions/train.json\", \"w\") as outfile:\n",
    "    json.dump(train_descriptions, outfile)\n",
    "with open(\"./datasets/DOTAv2/descriptions/val.json\", \"w\") as outfile:\n",
    "    json.dump(val_descriptions, outfile)"
   ]
  },
  {
   "cell_type": "code",
   "execution_count": null,
   "metadata": {},
   "outputs": [],
   "source": []
  }
 ],
 "metadata": {
  "kernelspec": {
   "display_name": "priorisat",
   "language": "python",
   "name": "python3"
  },
  "language_info": {
   "codemirror_mode": {
    "name": "ipython",
    "version": 3
   },
   "file_extension": ".py",
   "mimetype": "text/x-python",
   "name": "python",
   "nbconvert_exporter": "python",
   "pygments_lexer": "ipython3",
   "version": "3.11.5"
  }
 },
 "nbformat": 4,
 "nbformat_minor": 2
}
