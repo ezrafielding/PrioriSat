{
 "cells": [
  {
   "cell_type": "code",
   "execution_count": 2,
   "metadata": {},
   "outputs": [],
   "source": [
    "import pickle\n",
    "import numpy as np\n",
    "import os\n",
    "import pandas as pd"
   ]
  },
  {
   "cell_type": "code",
   "execution_count": 3,
   "metadata": {},
   "outputs": [],
   "source": [
    "with open(os.path.join('../datasets/NWPU-Captions/NWPU_Graphs_50/train', 'graphs.pkl'), 'rb') as f:\n",
    "    train_adjs = pickle.load(f)\n",
    "with open(os.path.join('../datasets/NWPU-Captions/NWPU_Graphs_100/train', 'descriptions.pkl'), 'rb') as f:\n",
    "    train_desc = pickle.load(f)\n",
    "\n",
    "with open(os.path.join('../datasets/NWPU-Captions/NWPU_Graphs_100/test', 'graphs.pkl'), 'rb') as f:\n",
    "    test_adjs = pickle.load(f)\n",
    "with open(os.path.join('../datasets/NWPU-Captions/NWPU_Graphs_100/test', 'descriptions.pkl'), 'rb') as f:\n",
    "    test_desc = pickle.load(f)\n",
    "\n",
    "with open(os.path.join('../datasets/NWPU-Captions/NWPU_Graphs_100/dev', 'graphs.pkl'), 'rb') as f:\n",
    "    val_adjs = pickle.load(f)\n",
    "with open(os.path.join('../datasets/NWPU-Captions/NWPU_Graphs_100/dev', 'descriptions.pkl'), 'rb') as f:\n",
    "    val_desc = pickle.load(f)"
   ]
  },
  {
   "cell_type": "code",
   "execution_count": 4,
   "metadata": {},
   "outputs": [
    {
     "data": {
      "text/plain": [
       "263"
      ]
     },
     "execution_count": 4,
     "metadata": {},
     "output_type": "execute_result"
    }
   ],
   "source": [
    "data = {\n",
    "    'graph': train_adjs,\n",
    "    'description': train_desc\n",
    "}\n",
    "pd.DataFrame(data)['description'].str.len().max()"
   ]
  },
  {
   "cell_type": "code",
   "execution_count": 5,
   "metadata": {},
   "outputs": [
    {
     "data": {
      "text/plain": [
       "array([None, None, None, ..., None, None, None], dtype=object)"
      ]
     },
     "execution_count": 5,
     "metadata": {},
     "output_type": "execute_result"
    }
   ],
   "source": [
    "np.ravel(train_adjs)"
   ]
  },
  {
   "cell_type": "code",
   "execution_count": null,
   "metadata": {},
   "outputs": [],
   "source": []
  }
 ],
 "metadata": {
  "kernelspec": {
   "display_name": "priorisat",
   "language": "python",
   "name": "python3"
  },
  "language_info": {
   "codemirror_mode": {
    "name": "ipython",
    "version": 3
   },
   "file_extension": ".py",
   "mimetype": "text/x-python",
   "name": "python",
   "nbconvert_exporter": "python",
   "pygments_lexer": "ipython3",
   "version": "3.10.13"
  }
 },
 "nbformat": 4,
 "nbformat_minor": 2
}
