{
 "cells": [
  {
   "cell_type": "code",
   "execution_count": 5,
   "metadata": {},
   "outputs": [],
   "source": [
    "import os\n",
    "from sklearn.model_selection import train_test_split\n",
    "import shutil\n",
    "\n",
    "def split_dataset(input_folder, output_train_folder, output_test_folder, test_size=0.2, random_state=42):\n",
    "    # Get the list of classes (subfolders)\n",
    "    classes = [d for d in os.listdir(input_folder) if os.path.isdir(os.path.join(input_folder, d))]\n",
    "    \n",
    "    for class_name in classes:\n",
    "        class_path = os.path.join(input_folder, class_name)\n",
    "        images = [f for f in os.listdir(class_path) if f.endswith(('.jpg', '.jpeg', '.png'))]\n",
    "        \n",
    "        # Split the images into train and test sets\n",
    "        train_images, test_images = train_test_split(images, test_size=test_size, random_state=random_state)\n",
    "        \n",
    "        # Copy the images to the output folders\n",
    "        for image in train_images:\n",
    "            src_path = os.path.join(class_path, image)\n",
    "            dest_path = os.path.join(output_train_folder, class_name, image)\n",
    "            os.makedirs(os.path.join(output_train_folder, class_name), exist_ok=True)\n",
    "            shutil.copy(src_path, dest_path)\n",
    "        \n",
    "        for image in test_images:\n",
    "            src_path = os.path.join(class_path, image)\n",
    "            dest_path = os.path.join(output_test_folder, image)\n",
    "            shutil.copy(src_path, dest_path)\n",
    "\n",
    "# Example usage:\n",
    "input_folder = \"./NWPU-Captions/NWPU_images/\"\n",
    "output_train_folder = \"./NWPU-Captions/Train\"\n",
    "output_test_folder = \"./NWPU-Captions/Test\"\n",
    "\n",
    "split_dataset(input_folder, output_train_folder, output_test_folder, test_size=0.2, random_state=42)\n"
   ]
  },
  {
   "cell_type": "code",
   "execution_count": null,
   "metadata": {},
   "outputs": [],
   "source": []
  }
 ],
 "metadata": {
  "kernelspec": {
   "display_name": "detour",
   "language": "python",
   "name": "python3"
  },
  "language_info": {
   "codemirror_mode": {
    "name": "ipython",
    "version": 3
   },
   "file_extension": ".py",
   "mimetype": "text/x-python",
   "name": "python",
   "nbconvert_exporter": "python",
   "pygments_lexer": "ipython3",
   "version": "3.11.7"
  }
 },
 "nbformat": 4,
 "nbformat_minor": 2
}
