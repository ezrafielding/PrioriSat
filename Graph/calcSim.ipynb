{
 "cells": [
  {
   "cell_type": "code",
   "execution_count": 7,
   "metadata": {},
   "outputs": [],
   "source": [
    "from sklearn.metrics.pairwise import cosine_similarity\n",
    "import networkx as nx\n",
    "import numpy as np\n",
    "import pickle as pkl\n",
    "import time"
   ]
  },
  {
   "cell_type": "code",
   "execution_count": 8,
   "metadata": {},
   "outputs": [],
   "source": [
    "with open('../datasets/NWPU-Captions/NWPU_Graphs_100/test/graphs.pkl', 'rb') as f:\n",
    "    g_data = pkl.load(f)"
   ]
  },
  {
   "cell_type": "code",
   "execution_count": 9,
   "metadata": {},
   "outputs": [
    {
     "name": "stdout",
     "output_type": "stream",
     "text": [
      "Cosine Similarity: 0.13333333333333333\n"
     ]
    },
    {
     "data": {
      "text/plain": [
       "0.0006198883056640625"
      ]
     },
     "execution_count": 9,
     "metadata": {},
     "output_type": "execute_result"
    }
   ],
   "source": [
    "# Create adjacency matrices\n",
    "adj_matrix1 = g_data[234]\n",
    "\n",
    "adj_matrix2 = g_data[236]\n",
    "\n",
    "start = time.time()\n",
    "# Ensure the matrices are of the same size by padding with zeros\n",
    "size = max(adj_matrix1.shape[0], adj_matrix2.shape[0])\n",
    "padded_adj_matrix1 = np.pad(adj_matrix1, ((0, size - adj_matrix1.shape[0]), (0, size - adj_matrix1.shape[1])), 'constant')\n",
    "padded_adj_matrix2 = np.pad(adj_matrix2, ((0, size - adj_matrix2.shape[0]), (0, size - adj_matrix2.shape[1])), 'constant')\n",
    "\n",
    "# Calculate cosine similarity\n",
    "similarity = cosine_similarity(padded_adj_matrix1.flatten().reshape(1, -1), padded_adj_matrix2.flatten().reshape(1, -1))\n",
    "end = time.time()\n",
    "print(\"Cosine Similarity:\", similarity[0][0])\n",
    "end -start\n"
   ]
  },
  {
   "cell_type": "code",
   "execution_count": 10,
   "metadata": {},
   "outputs": [
    {
     "data": {
      "text/plain": [
       "array([[0.13333333]])"
      ]
     },
     "execution_count": 10,
     "metadata": {},
     "output_type": "execute_result"
    }
   ],
   "source": [
    "similarity"
   ]
  },
  {
   "cell_type": "code",
   "execution_count": 11,
   "metadata": {},
   "outputs": [
    {
     "name": "stdout",
     "output_type": "stream",
     "text": [
      "Graph Edit Distance:  56.0\n"
     ]
    },
    {
     "data": {
      "text/plain": [
       "0.49264955520629883"
      ]
     },
     "execution_count": 11,
     "metadata": {},
     "output_type": "execute_result"
    }
   ],
   "source": [
    "g1 = nx.from_numpy_array(adj_matrix1)\n",
    "g2 = nx.from_numpy_array(adj_matrix2)\n",
    "start = time.time()\n",
    "dist = nx.graph_edit_distance(g1, g2)\n",
    "end = time.time()\n",
    "print('Graph Edit Distance: ', dist)\n",
    "end - start"
   ]
  },
  {
   "cell_type": "code",
   "execution_count": null,
   "metadata": {},
   "outputs": [],
   "source": []
  }
 ],
 "metadata": {
  "kernelspec": {
   "display_name": "priorisat",
   "language": "python",
   "name": "python3"
  },
  "language_info": {
   "codemirror_mode": {
    "name": "ipython",
    "version": 3
   },
   "file_extension": ".py",
   "mimetype": "text/x-python",
   "name": "python",
   "nbconvert_exporter": "python",
   "pygments_lexer": "ipython3",
   "version": "3.10.13"
  }
 },
 "nbformat": 4,
 "nbformat_minor": 2
}
